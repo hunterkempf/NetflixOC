{
 "cells": [
  {
   "cell_type": "markdown",
   "metadata": {},
   "source": [
    "# Netflix Originals Analysis"
   ]
  },
  {
   "cell_type": "markdown",
   "metadata": {},
   "source": [
    "This analysis was inspired by this dataset: https://data.world/mattschroyer/netflix-original-series "
   ]
  },
  {
   "cell_type": "code",
   "execution_count": 1,
   "metadata": {},
   "outputs": [],
   "source": [
    "import pandas as pd\n",
    "import matplotlib.pyplot as plt\n",
    "import matplotlib.dates\n",
    "import numpy as np"
   ]
  },
  {
   "cell_type": "code",
   "execution_count": 2,
   "metadata": {},
   "outputs": [],
   "source": [
    "# Read in Data from Data.World\n",
    "nflx_originals = pd.read_excel('https://query.data.world/s/f5336e3mv6tm4drlpsolmk3ujy2cl4')\n",
    "nflx_originals['Premiere Date'] = pd.to_datetime(nflx_originals['Premiere Date']).dt.date"
   ]
  },
  {
   "cell_type": "code",
   "execution_count": 3,
   "metadata": {},
   "outputs": [
    {
     "name": "stdout",
     "output_type": "stream",
     "text": [
      "The Dataset has 109 Observations and 12 Features\n"
     ]
    }
   ],
   "source": [
    "print(\"The Dataset has\",nflx_originals.shape[0],\"Observations and\", nflx_originals.shape[1], \"Features\")"
   ]
  },
  {
   "cell_type": "code",
   "execution_count": 4,
   "metadata": {},
   "outputs": [
    {
     "data": {
      "text/html": [
       "<div>\n",
       "<style scoped>\n",
       "    .dataframe tbody tr th:only-of-type {\n",
       "        vertical-align: middle;\n",
       "    }\n",
       "\n",
       "    .dataframe tbody tr th {\n",
       "        vertical-align: top;\n",
       "    }\n",
       "\n",
       "    .dataframe thead th {\n",
       "        text-align: right;\n",
       "    }\n",
       "</style>\n",
       "<table border=\"1\" class=\"dataframe\">\n",
       "  <thead>\n",
       "    <tr style=\"text-align: right;\">\n",
       "      <th></th>\n",
       "      <th>Major_Genre</th>\n",
       "      <th>Title</th>\n",
       "      <th>Subgenre</th>\n",
       "      <th>Premiere Date</th>\n",
       "      <th>Premiere_Year</th>\n",
       "      <th>Seasons</th>\n",
       "      <th>Status</th>\n",
       "      <th>Min_Length</th>\n",
       "      <th>Max_Length</th>\n",
       "      <th>Seasons.1</th>\n",
       "      <th>Episodes</th>\n",
       "      <th>IMDB_Rating</th>\n",
       "    </tr>\n",
       "  </thead>\n",
       "  <tbody>\n",
       "    <tr>\n",
       "      <th>0</th>\n",
       "      <td>Animation</td>\n",
       "      <td>Star Wars: The Clone Wars (season 6)</td>\n",
       "      <td>Animation</td>\n",
       "      <td>2014-03-07</td>\n",
       "      <td>2014</td>\n",
       "      <td>1 season, 13 episodes</td>\n",
       "      <td>Ended</td>\n",
       "      <td>22</td>\n",
       "      <td>22</td>\n",
       "      <td>1</td>\n",
       "      <td>13</td>\n",
       "      <td>80</td>\n",
       "    </tr>\n",
       "    <tr>\n",
       "      <th>1</th>\n",
       "      <td>Comedy</td>\n",
       "      <td>Arrested Development (season 4)</td>\n",
       "      <td>Comedy</td>\n",
       "      <td>2013-05-26</td>\n",
       "      <td>2013</td>\n",
       "      <td>1 season, 15 episodes</td>\n",
       "      <td>Renewed</td>\n",
       "      <td>28</td>\n",
       "      <td>37</td>\n",
       "      <td>1</td>\n",
       "      <td>15</td>\n",
       "      <td>89</td>\n",
       "    </tr>\n",
       "    <tr>\n",
       "      <th>2</th>\n",
       "      <td>Comedy</td>\n",
       "      <td>Russell Peters vs. the World</td>\n",
       "      <td>Docu-Series</td>\n",
       "      <td>2013-10-03</td>\n",
       "      <td>2013</td>\n",
       "      <td>1 season, 4 episodes</td>\n",
       "      <td>Ended</td>\n",
       "      <td>26</td>\n",
       "      <td>29</td>\n",
       "      <td>1</td>\n",
       "      <td>4</td>\n",
       "      <td>60</td>\n",
       "    </tr>\n",
       "    <tr>\n",
       "      <th>3</th>\n",
       "      <td>Comedy</td>\n",
       "      <td>BoJack Horseman</td>\n",
       "      <td>Adult Animation</td>\n",
       "      <td>2014-08-22</td>\n",
       "      <td>2014</td>\n",
       "      <td>3 seasons, 36 episodes</td>\n",
       "      <td>Renewed</td>\n",
       "      <td>25</td>\n",
       "      <td>26</td>\n",
       "      <td>3</td>\n",
       "      <td>36</td>\n",
       "      <td>84</td>\n",
       "    </tr>\n",
       "    <tr>\n",
       "      <th>4</th>\n",
       "      <td>Comedy</td>\n",
       "      <td>Trailer Park Boys (seasons 8, 9, 10 and 11)</td>\n",
       "      <td>Mockumentary</td>\n",
       "      <td>2014-09-05</td>\n",
       "      <td>2014</td>\n",
       "      <td>4 seasons, 40 episodes</td>\n",
       "      <td>Pending</td>\n",
       "      <td>22</td>\n",
       "      <td>32</td>\n",
       "      <td>4</td>\n",
       "      <td>40</td>\n",
       "      <td>85</td>\n",
       "    </tr>\n",
       "  </tbody>\n",
       "</table>\n",
       "</div>"
      ],
      "text/plain": [
       "  Major_Genre                                        Title         Subgenre  \\\n",
       "0   Animation         Star Wars: The Clone Wars (season 6)        Animation   \n",
       "1      Comedy              Arrested Development (season 4)           Comedy   \n",
       "2      Comedy                 Russell Peters vs. the World      Docu-Series   \n",
       "3      Comedy                              BoJack Horseman  Adult Animation   \n",
       "4      Comedy  Trailer Park Boys (seasons 8, 9, 10 and 11)     Mockumentary   \n",
       "\n",
       "  Premiere Date  Premiere_Year                 Seasons   Status  Min_Length  \\\n",
       "0    2014-03-07           2014   1 season, 13 episodes    Ended          22   \n",
       "1    2013-05-26           2013   1 season, 15 episodes  Renewed          28   \n",
       "2    2013-10-03           2013    1 season, 4 episodes    Ended          26   \n",
       "3    2014-08-22           2014  3 seasons, 36 episodes  Renewed          25   \n",
       "4    2014-09-05           2014  4 seasons, 40 episodes  Pending          22   \n",
       "\n",
       "   Max_Length  Seasons.1  Episodes  IMDB_Rating  \n",
       "0          22          1        13           80  \n",
       "1          37          1        15           89  \n",
       "2          29          1         4           60  \n",
       "3          26          3        36           84  \n",
       "4          32          4        40           85  "
      ]
     },
     "execution_count": 4,
     "metadata": {},
     "output_type": "execute_result"
    }
   ],
   "source": [
    "nflx_originals.head()"
   ]
  },
  {
   "cell_type": "code",
   "execution_count": 5,
   "metadata": {},
   "outputs": [
    {
     "name": "stdout",
     "output_type": "stream",
     "text": [
      "This Data is from 2013-02-01 to 2017-05-19\n"
     ]
    }
   ],
   "source": [
    "start_date = nflx_originals['Premiere Date'].min()\n",
    "end_date = nflx_originals['Premiere Date'].max()\n",
    "print(\"This Data is from\",start_date,\"to\",end_date)"
   ]
  },
  {
   "cell_type": "markdown",
   "metadata": {},
   "source": [
    "# Netflix Originals over time\n",
    "\n",
    "How many Netflix Originals Premier each month? How has that trend changed over time?"
   ]
  },
  {
   "cell_type": "code",
   "execution_count": 6,
   "metadata": {
    "scrolled": true
   },
   "outputs": [
    {
     "data": {
      "text/plain": [
       "2016    45\n",
       "2017    26\n",
       "2015    24\n",
       "2014     7\n",
       "2013     7\n",
       "Name: Premiere_Year, dtype: int64"
      ]
     },
     "execution_count": 6,
     "metadata": {},
     "output_type": "execute_result"
    }
   ],
   "source": [
    "yearly_counts = nflx_originals[\"Premiere_Year\"].value_counts()\n",
    "yearly_counts"
   ]
  },
  {
   "cell_type": "code",
   "execution_count": 7,
   "metadata": {},
   "outputs": [
    {
     "data": {
      "image/png": "[encoded data removed]",
      "text/plain": [
       "<Figure size 432x288 with 1 Axes>"
      ]
     },
     "metadata": {
      "needs_background": "light"
     },
     "output_type": "display_data"
    }
   ],
   "source": [
    "# Create bars\n",
    "plt.bar(yearly_counts.index, yearly_counts.values, facecolor='red')\n",
    " \n",
    "# Create names on the x-axis\n",
    "plt.xticks(yearly_counts.index)\n",
    " \n",
    "# Show graphic\n",
    "plt.show()"
   ]
  },
  {
   "cell_type": "markdown",
   "metadata": {},
   "source": [
    "Since the data doesnt include the full 2017 it is easier to show the trend by looking at a month by month over time chart"
   ]
  },
  {
   "cell_type": "code",
   "execution_count": 8,
   "metadata": {},
   "outputs": [],
   "source": [
    "nflx_originals['Month_Year'] = nflx_originals['Premiere Date'].map(lambda x: x.strftime('%b-%y'))"
   ]
  },
  {
   "cell_type": "code",
   "execution_count": 9,
   "metadata": {},
   "outputs": [
    {
     "data": {
      "text/plain": [
       "array(['Feb-13', 'Apr-13', 'May-13', 'Jul-13', 'Oct-13', 'Dec-13',\n",
       "       'Mar-14', 'Aug-14', 'Sep-14', 'Nov-14', 'Dec-14', 'Jan-15',\n",
       "       'Feb-15', 'Mar-15', 'Apr-15', 'May-15', 'Jun-15', 'Jul-15',\n",
       "       'Aug-15', 'Sep-15', 'Oct-15', 'Nov-15', 'Dec-15', 'Jan-16',\n",
       "       'Feb-16', 'Mar-16', 'Apr-16', 'May-16', 'Jun-16', 'Jul-16',\n",
       "       'Aug-16', 'Sep-16', 'Oct-16', 'Nov-16', 'Dec-16', 'Jan-17',\n",
       "       'Feb-17', 'Mar-17', 'Apr-17', 'May-17'], dtype=object)"
      ]
     },
     "execution_count": 9,
     "metadata": {},
     "output_type": "execute_result"
    }
   ],
   "source": [
    "month_year_categories = nflx_originals.sort_values(\"Premiere Date\")[\"Month_Year\"].unique()\n",
    "month_year_categories"
   ]
  },
  {
   "cell_type": "markdown",
   "metadata": {},
   "source": [
    "Since not all months are included in our dataset in order to preserve time we will make a month range and set the values according to the counts from the dataset or a 0 if no originals were relased that month."
   ]
  },
  {
   "cell_type": "code",
   "execution_count": 10,
   "metadata": {},
   "outputs": [
    {
     "data": {
      "text/html": [
       "<div>\n",
       "<style scoped>\n",
       "    .dataframe tbody tr th:only-of-type {\n",
       "        vertical-align: middle;\n",
       "    }\n",
       "\n",
       "    .dataframe tbody tr th {\n",
       "        vertical-align: top;\n",
       "    }\n",
       "\n",
       "    .dataframe thead th {\n",
       "        text-align: right;\n",
       "    }\n",
       "</style>\n",
       "<table border=\"1\" class=\"dataframe\">\n",
       "  <thead>\n",
       "    <tr style=\"text-align: right;\">\n",
       "      <th></th>\n",
       "      <th>values</th>\n",
       "    </tr>\n",
       "  </thead>\n",
       "  <tbody>\n",
       "    <tr>\n",
       "      <th>Feb-13</th>\n",
       "      <td>0</td>\n",
       "    </tr>\n",
       "    <tr>\n",
       "      <th>Mar-13</th>\n",
       "      <td>0</td>\n",
       "    </tr>\n",
       "    <tr>\n",
       "      <th>Apr-13</th>\n",
       "      <td>0</td>\n",
       "    </tr>\n",
       "    <tr>\n",
       "      <th>May-13</th>\n",
       "      <td>0</td>\n",
       "    </tr>\n",
       "    <tr>\n",
       "      <th>Jun-13</th>\n",
       "      <td>0</td>\n",
       "    </tr>\n",
       "  </tbody>\n",
       "</table>\n",
       "</div>"
      ],
      "text/plain": [
       "        values\n",
       "Feb-13       0\n",
       "Mar-13       0\n",
       "Apr-13       0\n",
       "May-13       0\n",
       "Jun-13       0"
      ]
     },
     "execution_count": 10,
     "metadata": {},
     "output_type": "execute_result"
    }
   ],
   "source": [
    "# create month-year range\n",
    "all_months =  pd.date_range(start_date,end_date,freq='MS').strftime('%b-%y')\n",
    "all_months_df = pd.DataFrame(0, index = all_months,columns=[\"values\"])\n",
    "all_months_df.head()"
   ]
  },
  {
   "cell_type": "code",
   "execution_count": 11,
   "metadata": {},
   "outputs": [
    {
     "data": {
      "text/plain": [
       "Mar-17    7\n",
       "Dec-16    6\n",
       "Oct-16    6\n",
       "Apr-17    6\n",
       "Nov-16    6\n",
       "Name: Month_Year, dtype: int64"
      ]
     },
     "execution_count": 11,
     "metadata": {},
     "output_type": "execute_result"
    }
   ],
   "source": [
    "month_year_counts = nflx_originals[\"Month_Year\"].value_counts()\n",
    "month_year_counts.head()"
   ]
  },
  {
   "cell_type": "code",
   "execution_count": 12,
   "metadata": {},
   "outputs": [
    {
     "data": {
      "text/html": [
       "<div>\n",
       "<style scoped>\n",
       "    .dataframe tbody tr th:only-of-type {\n",
       "        vertical-align: middle;\n",
       "    }\n",
       "\n",
       "    .dataframe tbody tr th {\n",
       "        vertical-align: top;\n",
       "    }\n",
       "\n",
       "    .dataframe thead th {\n",
       "        text-align: right;\n",
       "    }\n",
       "</style>\n",
       "<table border=\"1\" class=\"dataframe\">\n",
       "  <thead>\n",
       "    <tr style=\"text-align: right;\">\n",
       "      <th></th>\n",
       "      <th>values</th>\n",
       "    </tr>\n",
       "  </thead>\n",
       "  <tbody>\n",
       "    <tr>\n",
       "      <th>Feb-13</th>\n",
       "      <td>1.0</td>\n",
       "    </tr>\n",
       "    <tr>\n",
       "      <th>Mar-13</th>\n",
       "      <td>0.0</td>\n",
       "    </tr>\n",
       "    <tr>\n",
       "      <th>Apr-13</th>\n",
       "      <td>1.0</td>\n",
       "    </tr>\n",
       "    <tr>\n",
       "      <th>May-13</th>\n",
       "      <td>1.0</td>\n",
       "    </tr>\n",
       "    <tr>\n",
       "      <th>Jun-13</th>\n",
       "      <td>0.0</td>\n",
       "    </tr>\n",
       "  </tbody>\n",
       "</table>\n",
       "</div>"
      ],
      "text/plain": [
       "        values\n",
       "Feb-13     1.0\n",
       "Mar-13     0.0\n",
       "Apr-13     1.0\n",
       "May-13     1.0\n",
       "Jun-13     0.0"
      ]
     },
     "execution_count": 12,
     "metadata": {},
     "output_type": "execute_result"
    }
   ],
   "source": [
    "# fill all_months dataframe \n",
    "all_months_df[\"values\"] = all_months_df.merge(right = month_year_counts,how = 'left', \n",
    "                                      left_index = True, right_index = True)[\"Month_Year\"].fillna(0)\n",
    "all_months_df.head()"
   ]
  },
  {
   "cell_type": "code",
   "execution_count": 13,
   "metadata": {},
   "outputs": [
    {
     "name": "stdout",
     "output_type": "stream",
     "text": [
      "['Feb-13' '' '' '' '' '' '' '' '' '' '' 'Jan-14' '' '' '' '' '' '' '' ''\n",
      " '' '' '' 'Jan-15' '' '' '' '' '' '' '' '' '' '' '' 'Jan-16' '' '' '' ''\n",
      " '' '' '' '' '' '' '' 'Jan-17' '' '' '' '']\n",
      "['Feb-13' 'Mar-13' 'Apr-13' 'May-13' 'Jun-13' 'Jul-13' 'Aug-13' 'Sep-13'\n",
      " 'Oct-13' 'Nov-13' 'Dec-13' 'Jan-14' 'Feb-14' 'Mar-14' 'Apr-14' 'May-14'\n",
      " 'Jun-14' 'Jul-14' 'Aug-14' 'Sep-14' 'Oct-14' 'Nov-14' 'Dec-14' 'Jan-15'\n",
      " 'Feb-15' 'Mar-15' 'Apr-15' 'May-15' 'Jun-15' 'Jul-15' 'Aug-15' 'Sep-15'\n",
      " 'Oct-15' 'Nov-15' 'Dec-15' 'Jan-16' 'Feb-16' 'Mar-16' 'Apr-16' 'May-16'\n",
      " 'Jun-16' 'Jul-16' 'Aug-16' 'Sep-16' 'Oct-16' 'Nov-16' 'Dec-16' 'Jan-17'\n",
      " 'Feb-17' 'Mar-17' 'Apr-17' 'May-17']\n"
     ]
    }
   ],
   "source": [
    "month_year_categories = all_months_df.index.values\n",
    "# select values for display so we wont have too much overlap\n",
    "month_year_categories_display = month_year_categories.copy()\n",
    "i = 0\n",
    "for monthYear in month_year_categories_display:\n",
    "    if (\"Jan\" not in monthYear) and (i!=0):\n",
    "        monthYear = \"\"\n",
    "    month_year_categories_display[i] = monthYear\n",
    "    i+=1\n",
    "print(month_year_categories_display)\n",
    "print(month_year_categories)"
   ]
  },
  {
   "cell_type": "code",
   "execution_count": 14,
   "metadata": {},
   "outputs": [],
   "source": [
    "all_months_df.index = pd.CategoricalIndex(all_months_df.index, \n",
    "                               categories=month_year_categories, \n",
    "                               ordered=True)\n",
    "all_months_df = all_months_df.sort_index()"
   ]
  },
  {
   "cell_type": "code",
   "execution_count": 15,
   "metadata": {},
   "outputs": [
    {
     "data": {
      "image/png": "[encoded data removed]",
      "text/plain": [
       "<Figure size 720x504 with 1 Axes>"
      ]
     },
     "metadata": {
      "needs_background": "light"
     },
     "output_type": "display_data"
    }
   ],
   "source": [
    "plt.subplots(figsize=(10,7))\n",
    "# Create bars\n",
    "plt.bar(all_months_df.index, all_months_df[\"values\"].values, facecolor='red')\n",
    " \n",
    "# Create names on the x-axis\n",
    "plt.xticks(month_year_categories_display)\n",
    "\n",
    "# Set title\n",
    "#plt.title(\"Netflix Originals Premiers\")\n",
    "\n",
    "# Show graphic\n",
    "plt.show()"
   ]
  },
  {
   "cell_type": "markdown",
   "metadata": {},
   "source": [
    "## Helper Functions for Analysis\n"
   ]
  },
  {
   "cell_type": "code",
   "execution_count": 16,
   "metadata": {},
   "outputs": [],
   "source": [
    "def column_analysis_df(df,col_name):\n",
    "    col_counts = df[col_name].value_counts()\n",
    "    col_mean_rating = df.groupby(col_name)[\"IMDB_Rating\"].mean()\n",
    "    col_avg_min_length = df.groupby(col_name)[\"Min_Length\"].mean()\n",
    "    col_avg_max_length = df.groupby(col_name)[\"Max_Length\"].mean()\n",
    "    col_avg_num_episodes = df.groupby(col_name)[\"Episodes\"].mean()\n",
    "    output_df = pd.concat([col_counts,\n",
    "                          col_mean_rating,\n",
    "                          col_avg_min_length,\n",
    "                          col_avg_max_length,\n",
    "                          col_avg_num_episodes],\n",
    "                         axis = 1,sort=True)\n",
    "    output_df = output_df.rename(columns={ col_name : \"Count\", \n",
    "                                        \"IMDB_Rating\": \"Mean_Rating\",\n",
    "                                        \"Min_Length\" : \"Mean_Min_Length\",\n",
    "                                        \"Max_Length\" : \"Mean_Max_Length\",\n",
    "                                        \"Episodes\" : \"Mean_Number_of_Episodes\"\n",
    "                                       })\n",
    "    output_df = output_df.sort_values(\"Count\",ascending = False)\n",
    "    return output_df"
   ]
  },
  {
   "cell_type": "markdown",
   "metadata": {},
   "source": [
    "# Yearly Analysis\n",
    "How are ratings, lengths and number of episodes changing over time?"
   ]
  },
  {
   "cell_type": "code",
   "execution_count": 17,
   "metadata": {},
   "outputs": [
    {
     "data": {
      "text/html": [
       "<div>\n",
       "<style scoped>\n",
       "    .dataframe tbody tr th:only-of-type {\n",
       "        vertical-align: middle;\n",
       "    }\n",
       "\n",
       "    .dataframe tbody tr th {\n",
       "        vertical-align: top;\n",
       "    }\n",
       "\n",
       "    .dataframe thead th {\n",
       "        text-align: right;\n",
       "    }\n",
       "</style>\n",
       "<table border=\"1\" class=\"dataframe\">\n",
       "  <thead>\n",
       "    <tr style=\"text-align: right;\">\n",
       "      <th></th>\n",
       "      <th>Count</th>\n",
       "      <th>Mean_Rating</th>\n",
       "      <th>Mean_Min_Length</th>\n",
       "      <th>Mean_Max_Length</th>\n",
       "      <th>Mean_Number_of_Episodes</th>\n",
       "    </tr>\n",
       "  </thead>\n",
       "  <tbody>\n",
       "    <tr>\n",
       "      <th>2017</th>\n",
       "      <td>26</td>\n",
       "      <td>71.807692</td>\n",
       "      <td>35.307692</td>\n",
       "      <td>43.192308</td>\n",
       "      <td>10.576923</td>\n",
       "    </tr>\n",
       "    <tr>\n",
       "      <th>2016</th>\n",
       "      <td>45</td>\n",
       "      <td>73.400000</td>\n",
       "      <td>33.911111</td>\n",
       "      <td>45.266667</td>\n",
       "      <td>12.800000</td>\n",
       "    </tr>\n",
       "    <tr>\n",
       "      <th>2015</th>\n",
       "      <td>24</td>\n",
       "      <td>73.750000</td>\n",
       "      <td>31.625000</td>\n",
       "      <td>38.458333</td>\n",
       "      <td>26.166667</td>\n",
       "    </tr>\n",
       "    <tr>\n",
       "      <th>2014</th>\n",
       "      <td>7</td>\n",
       "      <td>76.000000</td>\n",
       "      <td>31.000000</td>\n",
       "      <td>35.857143</td>\n",
       "      <td>31.285714</td>\n",
       "    </tr>\n",
       "    <tr>\n",
       "      <th>2013</th>\n",
       "      <td>7</td>\n",
       "      <td>78.000000</td>\n",
       "      <td>34.000000</td>\n",
       "      <td>49.000000</td>\n",
       "      <td>35.714286</td>\n",
       "    </tr>\n",
       "  </tbody>\n",
       "</table>\n",
       "</div>"
      ],
      "text/plain": [
       "      Count  Mean_Rating  Mean_Min_Length  Mean_Max_Length  \\\n",
       "2017     26    71.807692        35.307692        43.192308   \n",
       "2016     45    73.400000        33.911111        45.266667   \n",
       "2015     24    73.750000        31.625000        38.458333   \n",
       "2014      7    76.000000        31.000000        35.857143   \n",
       "2013      7    78.000000        34.000000        49.000000   \n",
       "\n",
       "      Mean_Number_of_Episodes  \n",
       "2017                10.576923  \n",
       "2016                12.800000  \n",
       "2015                26.166667  \n",
       "2014                31.285714  \n",
       "2013                35.714286  "
      ]
     },
     "execution_count": 17,
     "metadata": {},
     "output_type": "execute_result"
    }
   ],
   "source": [
    "yearly_df = column_analysis_df(nflx_originals,\"Premiere_Year\").sort_index(ascending = False)\n",
    "yearly_df"
   ]
  },
  {
   "cell_type": "markdown",
   "metadata": {},
   "source": [
    "\n",
    "It looks like the IMDB Ratings are declining as more shows are produced. Also it seems that more originals are being made for the 40-60 min timeframe."
   ]
  },
  {
   "cell_type": "code",
   "execution_count": 18,
   "metadata": {},
   "outputs": [
    {
     "data": {
      "text/plain": [
       "2017    4.333333\n",
       "2016    3.750000\n",
       "2015    2.000000\n",
       "2014    0.583333\n",
       "2013    0.583333\n",
       "dtype: float64"
      ]
     },
     "execution_count": 18,
     "metadata": {},
     "output_type": "execute_result"
    }
   ],
   "source": [
    "premiers_yr = (yearly_df.Count/pd.Series(data = [12,12,12,12,6],index = [2013,2014,2015,2016,2017]))\n",
    "premiers_yr.sort_index(ascending = False)"
   ]
  },
  {
   "cell_type": "markdown",
   "metadata": {},
   "source": [
    "This shows a clear increase in the number of Originals that are premiering per month from 2014 to 2017."
   ]
  },
  {
   "cell_type": "code",
   "execution_count": 19,
   "metadata": {},
   "outputs": [
    {
     "data": {
      "text/plain": [
       "Text(0.5, 1.0, 'Premiers per Month')"
      ]
     },
     "execution_count": 19,
     "metadata": {},
     "output_type": "execute_result"
    },
    {
     "data": {
      "image/png": "[encoded data removed]",
      "text/plain": [
       "<Figure size 432x288 with 1 Axes>"
      ]
     },
     "metadata": {
      "needs_background": "light"
     },
     "output_type": "display_data"
    }
   ],
   "source": [
    "plt.xticks(premiers_yr.index, premiers_yr.index)\n",
    "plt.plot(premiers_yr.index,premiers_yr.values,color = \"r\")\n",
    "plt.title(\"Premiers per Month\")\n"
   ]
  },
  {
   "cell_type": "markdown",
   "metadata": {},
   "source": [
    "With the new average of 4.33 new shows per month I will project out the total for 2017 on a bar chart similar to the first bar chart I made"
   ]
  },
  {
   "cell_type": "code",
   "execution_count": 20,
   "metadata": {},
   "outputs": [
    {
     "data": {
      "text/html": [
       "<div>\n",
       "<style scoped>\n",
       "    .dataframe tbody tr th:only-of-type {\n",
       "        vertical-align: middle;\n",
       "    }\n",
       "\n",
       "    .dataframe tbody tr th {\n",
       "        vertical-align: top;\n",
       "    }\n",
       "\n",
       "    .dataframe thead th {\n",
       "        text-align: right;\n",
       "    }\n",
       "</style>\n",
       "<table border=\"1\" class=\"dataframe\">\n",
       "  <thead>\n",
       "    <tr style=\"text-align: right;\">\n",
       "      <th></th>\n",
       "      <th>Actuals</th>\n",
       "      <th>Projection</th>\n",
       "    </tr>\n",
       "  </thead>\n",
       "  <tbody>\n",
       "    <tr>\n",
       "      <th>2013</th>\n",
       "      <td>7</td>\n",
       "      <td>NaN</td>\n",
       "    </tr>\n",
       "    <tr>\n",
       "      <th>2014</th>\n",
       "      <td>7</td>\n",
       "      <td>NaN</td>\n",
       "    </tr>\n",
       "    <tr>\n",
       "      <th>2015</th>\n",
       "      <td>24</td>\n",
       "      <td>NaN</td>\n",
       "    </tr>\n",
       "    <tr>\n",
       "      <th>2016</th>\n",
       "      <td>45</td>\n",
       "      <td>NaN</td>\n",
       "    </tr>\n",
       "    <tr>\n",
       "      <th>2017</th>\n",
       "      <td>26</td>\n",
       "      <td>26.0</td>\n",
       "    </tr>\n",
       "  </tbody>\n",
       "</table>\n",
       "</div>"
      ],
      "text/plain": [
       "      Actuals  Projection\n",
       "2013        7         NaN\n",
       "2014        7         NaN\n",
       "2015       24         NaN\n",
       "2016       45         NaN\n",
       "2017       26        26.0"
      ]
     },
     "execution_count": 20,
     "metadata": {},
     "output_type": "execute_result"
    }
   ],
   "source": [
    "yearly_counts_projection = pd.DataFrame(yearly_counts).rename(columns={\"Premiere_Year\": \"Actuals\"}).sort_index()\n",
    "# projection is just the 2017 monthly average x months left in the year (in this case it is \n",
    "# just the same as the first 6 months)\n",
    "yearly_counts_projection[\"Projection\"] = pd.Series({2017:premiers_yr.loc[2017]*6})\n",
    "\n",
    "yearly_counts_projection"
   ]
  },
  {
   "cell_type": "code",
   "execution_count": 21,
   "metadata": {},
   "outputs": [
    {
     "data": {
      "text/plain": [
       "<matplotlib.axes._subplots.AxesSubplot at 0x1248a6d30>"
      ]
     },
     "execution_count": 21,
     "metadata": {},
     "output_type": "execute_result"
    },
    {
     "data": {
      "image/png": "[encoded data removed]",
      "text/plain": [
       "<Figure size 720x504 with 1 Axes>"
      ]
     },
     "metadata": {
      "needs_background": "light"
     },
     "output_type": "display_data"
    }
   ],
   "source": [
    "colors = ['red','#ff7878']\n",
    "yearly_counts_projection.plot.bar(stacked=True, color=colors, figsize=(10,7))"
   ]
  },
  {
   "cell_type": "markdown",
   "metadata": {},
   "source": [
    "Next lets see the IMDB ratings over time"
   ]
  },
  {
   "cell_type": "code",
   "execution_count": 22,
   "metadata": {},
   "outputs": [
    {
     "data": {
      "image/png": "[encoded data removed]",
      "text/plain": [
       "<Figure size 432x288 with 1 Axes>"
      ]
     },
     "metadata": {
      "needs_background": "light"
     },
     "output_type": "display_data"
    }
   ],
   "source": [
    "from pandas.plotting import register_matplotlib_converters\n",
    "register_matplotlib_converters()\n",
    "\n",
    "sorted_dates = nflx_originals.sort_values('Premiere Date')['Premiere Date']\n",
    "IMDB_Ratings = nflx_originals.sort_values('Premiere Date')['IMDB_Rating']\n",
    "fig, ax = plt.subplots()\n",
    "\n",
    "ax.plot(sorted_dates, IMDB_Ratings,'ro')\n",
    "\n",
    "# rotate and align the tick labels so they look better\n",
    "fig.autofmt_xdate()\n",
    "\n",
    "# Set title\n",
    "ax.set_title(\"Individual Netflix Originals IMDB Ratings\")\n",
    "\n",
    "plt.show()"
   ]
  },
  {
   "cell_type": "markdown",
   "metadata": {},
   "source": [
    "It looks like there are 3 points that are 0's those would really bring down any average we calculate. So first lets check that those 0 ratings make sense."
   ]
  },
  {
   "cell_type": "code",
   "execution_count": 23,
   "metadata": {},
   "outputs": [
    {
     "data": {
      "text/html": [
       "<div>\n",
       "<style scoped>\n",
       "    .dataframe tbody tr th:only-of-type {\n",
       "        vertical-align: middle;\n",
       "    }\n",
       "\n",
       "    .dataframe tbody tr th {\n",
       "        vertical-align: top;\n",
       "    }\n",
       "\n",
       "    .dataframe thead th {\n",
       "        text-align: right;\n",
       "    }\n",
       "</style>\n",
       "<table border=\"1\" class=\"dataframe\">\n",
       "  <thead>\n",
       "    <tr style=\"text-align: right;\">\n",
       "      <th></th>\n",
       "      <th>Major_Genre</th>\n",
       "      <th>Title</th>\n",
       "      <th>Subgenre</th>\n",
       "      <th>Premiere Date</th>\n",
       "      <th>Premiere_Year</th>\n",
       "      <th>Seasons</th>\n",
       "      <th>Status</th>\n",
       "      <th>Min_Length</th>\n",
       "      <th>Max_Length</th>\n",
       "      <th>Seasons.1</th>\n",
       "      <th>Episodes</th>\n",
       "      <th>IMDB_Rating</th>\n",
       "      <th>Month_Year</th>\n",
       "    </tr>\n",
       "  </thead>\n",
       "  <tbody>\n",
       "    <tr>\n",
       "      <th>31</th>\n",
       "      <td>Docu-Series</td>\n",
       "      <td>Fearless</td>\n",
       "      <td>Sport</td>\n",
       "      <td>2016-08-19</td>\n",
       "      <td>2016</td>\n",
       "      <td>1 season, 6 episodes</td>\n",
       "      <td>Pending</td>\n",
       "      <td>50</td>\n",
       "      <td>58</td>\n",
       "      <td>1</td>\n",
       "      <td>6</td>\n",
       "      <td>0</td>\n",
       "      <td>Aug-16</td>\n",
       "    </tr>\n",
       "    <tr>\n",
       "      <th>84</th>\n",
       "      <td>Family Animation</td>\n",
       "      <td>We're Lalaloopsy</td>\n",
       "      <td>Animation</td>\n",
       "      <td>2017-01-10</td>\n",
       "      <td>2017</td>\n",
       "      <td>1 season, 13 episodes</td>\n",
       "      <td>Pending</td>\n",
       "      <td>22</td>\n",
       "      <td>22</td>\n",
       "      <td>1</td>\n",
       "      <td>13</td>\n",
       "      <td>0</td>\n",
       "      <td>Jan-17</td>\n",
       "    </tr>\n",
       "    <tr>\n",
       "      <th>91</th>\n",
       "      <td>Family Live Action</td>\n",
       "      <td>Project Mc2</td>\n",
       "      <td>Comedy/educational</td>\n",
       "      <td>2015-08-07</td>\n",
       "      <td>2015</td>\n",
       "      <td>3 seasons, 15 episodes</td>\n",
       "      <td>Renewed</td>\n",
       "      <td>22</td>\n",
       "      <td>29</td>\n",
       "      <td>3</td>\n",
       "      <td>15</td>\n",
       "      <td>0</td>\n",
       "      <td>Aug-15</td>\n",
       "    </tr>\n",
       "  </tbody>\n",
       "</table>\n",
       "</div>"
      ],
      "text/plain": [
       "           Major_Genre             Title            Subgenre Premiere Date  \\\n",
       "31         Docu-Series          Fearless               Sport    2016-08-19   \n",
       "84    Family Animation  We're Lalaloopsy           Animation    2017-01-10   \n",
       "91  Family Live Action       Project Mc2  Comedy/educational    2015-08-07   \n",
       "\n",
       "    Premiere_Year                 Seasons   Status  Min_Length  Max_Length  \\\n",
       "31           2016    1 season, 6 episodes  Pending          50          58   \n",
       "84           2017   1 season, 13 episodes  Pending          22          22   \n",
       "91           2015  3 seasons, 15 episodes  Renewed          22          29   \n",
       "\n",
       "    Seasons.1  Episodes  IMDB_Rating Month_Year  \n",
       "31          1         6            0     Aug-16  \n",
       "84          1        13            0     Jan-17  \n",
       "91          3        15            0     Aug-15  "
      ]
     },
     "execution_count": 23,
     "metadata": {},
     "output_type": "execute_result"
    }
   ],
   "source": [
    "nflx_originals[nflx_originals[\"IMDB_Rating\"]==0]"
   ]
  },
  {
   "cell_type": "markdown",
   "metadata": {},
   "source": [
    "For a manual check of those 3 shows IMDB seems to have a rating for all 3 above 0. In this case we could manually replace them with the correct answer but I will set them to NA since they seem to be errors and I would rather leave the data as it was collected since the ratings were all taken at a certain point in time and if we add ratings from a later date we should change the ratings for every other observation"
   ]
  },
  {
   "cell_type": "code",
   "execution_count": 24,
   "metadata": {},
   "outputs": [],
   "source": [
    "nflx_originals = nflx_originals.replace(to_replace = 0,value = np.nan)"
   ]
  },
  {
   "cell_type": "markdown",
   "metadata": {},
   "source": [
    "Now lets look at the new mean ratings. while there is a decrease in mean ratings there is a much less pronounced drop than before. "
   ]
  },
  {
   "cell_type": "code",
   "execution_count": 25,
   "metadata": {},
   "outputs": [],
   "source": [
    "# save the old ratings for comparison\n",
    "old_rating = yearly_df.Mean_Rating "
   ]
  },
  {
   "cell_type": "code",
   "execution_count": 26,
   "metadata": {},
   "outputs": [
    {
     "data": {
      "text/html": [
       "<div>\n",
       "<style scoped>\n",
       "    .dataframe tbody tr th:only-of-type {\n",
       "        vertical-align: middle;\n",
       "    }\n",
       "\n",
       "    .dataframe tbody tr th {\n",
       "        vertical-align: top;\n",
       "    }\n",
       "\n",
       "    .dataframe thead th {\n",
       "        text-align: right;\n",
       "    }\n",
       "</style>\n",
       "<table border=\"1\" class=\"dataframe\">\n",
       "  <thead>\n",
       "    <tr style=\"text-align: right;\">\n",
       "      <th></th>\n",
       "      <th>Count</th>\n",
       "      <th>Mean_Rating</th>\n",
       "      <th>Mean_Min_Length</th>\n",
       "      <th>Mean_Max_Length</th>\n",
       "      <th>Mean_Number_of_Episodes</th>\n",
       "    </tr>\n",
       "  </thead>\n",
       "  <tbody>\n",
       "    <tr>\n",
       "      <th>2017</th>\n",
       "      <td>26</td>\n",
       "      <td>74.680000</td>\n",
       "      <td>35.307692</td>\n",
       "      <td>43.192308</td>\n",
       "      <td>10.576923</td>\n",
       "    </tr>\n",
       "    <tr>\n",
       "      <th>2016</th>\n",
       "      <td>45</td>\n",
       "      <td>75.068182</td>\n",
       "      <td>33.911111</td>\n",
       "      <td>45.266667</td>\n",
       "      <td>12.800000</td>\n",
       "    </tr>\n",
       "    <tr>\n",
       "      <th>2015</th>\n",
       "      <td>24</td>\n",
       "      <td>76.956522</td>\n",
       "      <td>31.625000</td>\n",
       "      <td>38.458333</td>\n",
       "      <td>26.166667</td>\n",
       "    </tr>\n",
       "    <tr>\n",
       "      <th>2014</th>\n",
       "      <td>7</td>\n",
       "      <td>76.000000</td>\n",
       "      <td>31.000000</td>\n",
       "      <td>35.857143</td>\n",
       "      <td>31.285714</td>\n",
       "    </tr>\n",
       "    <tr>\n",
       "      <th>2013</th>\n",
       "      <td>7</td>\n",
       "      <td>78.000000</td>\n",
       "      <td>34.000000</td>\n",
       "      <td>49.000000</td>\n",
       "      <td>35.714286</td>\n",
       "    </tr>\n",
       "  </tbody>\n",
       "</table>\n",
       "</div>"
      ],
      "text/plain": [
       "      Count  Mean_Rating  Mean_Min_Length  Mean_Max_Length  \\\n",
       "2017     26    74.680000        35.307692        43.192308   \n",
       "2016     45    75.068182        33.911111        45.266667   \n",
       "2015     24    76.956522        31.625000        38.458333   \n",
       "2014      7    76.000000        31.000000        35.857143   \n",
       "2013      7    78.000000        34.000000        49.000000   \n",
       "\n",
       "      Mean_Number_of_Episodes  \n",
       "2017                10.576923  \n",
       "2016                12.800000  \n",
       "2015                26.166667  \n",
       "2014                31.285714  \n",
       "2013                35.714286  "
      ]
     },
     "execution_count": 26,
     "metadata": {},
     "output_type": "execute_result"
    }
   ],
   "source": [
    "yearly_df = column_analysis_df(nflx_originals,\"Premiere_Year\").sort_index(ascending = False)\n",
    "yearly_df"
   ]
  },
  {
   "cell_type": "code",
   "execution_count": 27,
   "metadata": {},
   "outputs": [
    {
     "data": {
      "text/plain": [
       "2017    2.872308\n",
       "2016    1.668182\n",
       "2015    3.206522\n",
       "2014    0.000000\n",
       "2013    0.000000\n",
       "Name: Mean_Rating, dtype: float64"
      ]
     },
     "execution_count": 27,
     "metadata": {},
     "output_type": "execute_result"
    }
   ],
   "source": [
    "difference = yearly_df.Mean_Rating - old_rating\n",
    "difference"
   ]
  },
  {
   "cell_type": "code",
   "execution_count": 28,
   "metadata": {},
   "outputs": [
    {
     "data": {
      "image/png": "[encoded data removed]",
      "text/plain": [
       "<Figure size 720x504 with 1 Axes>"
      ]
     },
     "metadata": {
      "needs_background": "light"
     },
     "output_type": "display_data"
    }
   ],
   "source": [
    "ended_mask = nflx_originals['Status'] == \"Ended\"\n",
    "\n",
    "dates = nflx_originals['Premiere Date']\n",
    "ratings = nflx_originals['IMDB_Rating']\n",
    "\n",
    "ended_dates = dates[ended_mask]\n",
    "ended_ratings = ratings[ended_mask]\n",
    "\n",
    "not_ended_dates = dates[~ended_mask]\n",
    "not_ended_ratings = ratings[~ended_mask]\n",
    "\n",
    "\n",
    "fig, ax = plt.subplots(figsize=(10,7))\n",
    "\n",
    "ax.scatter(ended_dates, ended_ratings,s = 30,color='grey', marker='o')\n",
    "ax.scatter(not_ended_dates, not_ended_ratings, s = 30,color='red', marker='o')\n",
    "\n",
    "# rotate and align the tick labels so they look better\n",
    "fig.autofmt_xdate()\n",
    "\n",
    "# Set title\n",
    "ax.set_title(\"Individual Netflix Originals IMDB Ratings\")\n",
    "ax.legend(loc = 'lower left',labels = [\"Cancelled\",\"Ongoing\"])\n",
    "plt.show()"
   ]
  },
  {
   "cell_type": "code",
   "execution_count": 29,
   "metadata": {},
   "outputs": [],
   "source": [
    "sorted_dates = nflx_originals.sort_values('Premiere Date')['Premiere Date']\n",
    "cumulative_mean = nflx_originals.sort_values('Premiere Date')['IMDB_Rating'].expanding().mean()"
   ]
  },
  {
   "cell_type": "code",
   "execution_count": 30,
   "metadata": {},
   "outputs": [
    {
     "data": {
      "image/png": "[encoded data removed]",
      "text/plain": [
       "<Figure size 720x504 with 1 Axes>"
      ]
     },
     "metadata": {
      "needs_background": "light"
     },
     "output_type": "display_data"
    }
   ],
   "source": [
    "fig, ax = plt.subplots(figsize=(10,7))\n",
    "\n",
    "ax.plot(sorted_dates, cumulative_mean,'red')\n",
    "\n",
    "# rotate and align the tick labels so they look better\n",
    "fig.autofmt_xdate()\n",
    "\n",
    "# Set title\n",
    "ax.set_title(\"2013-2017 Average Netflix Originals IMDB Ratings\")\n",
    "\n",
    "plt.show()"
   ]
  },
  {
   "cell_type": "markdown",
   "metadata": {},
   "source": [
    "# High Rating Analysis\n",
    "What are characteristics of high rating shows?"
   ]
  },
  {
   "cell_type": "code",
   "execution_count": 31,
   "metadata": {},
   "outputs": [
    {
     "data": {
      "text/html": [
       "<div>\n",
       "<style scoped>\n",
       "    .dataframe tbody tr th:only-of-type {\n",
       "        vertical-align: middle;\n",
       "    }\n",
       "\n",
       "    .dataframe tbody tr th {\n",
       "        vertical-align: top;\n",
       "    }\n",
       "\n",
       "    .dataframe thead th {\n",
       "        text-align: right;\n",
       "    }\n",
       "</style>\n",
       "<table border=\"1\" class=\"dataframe\">\n",
       "  <thead>\n",
       "    <tr style=\"text-align: right;\">\n",
       "      <th></th>\n",
       "      <th>Count</th>\n",
       "      <th>Mean_Min_Length</th>\n",
       "      <th>Mean_Max_Length</th>\n",
       "      <th>Mean_Number_of_Episodes</th>\n",
       "    </tr>\n",
       "  </thead>\n",
       "  <tbody>\n",
       "    <tr>\n",
       "      <th>(90, 100]</th>\n",
       "      <td>2</td>\n",
       "      <td>21.500000</td>\n",
       "      <td>23.500000</td>\n",
       "      <td>9.000000</td>\n",
       "    </tr>\n",
       "    <tr>\n",
       "      <th>(80, 90]</th>\n",
       "      <td>43</td>\n",
       "      <td>38.837209</td>\n",
       "      <td>50.976744</td>\n",
       "      <td>18.697674</td>\n",
       "    </tr>\n",
       "    <tr>\n",
       "      <th>(70, 80]</th>\n",
       "      <td>36</td>\n",
       "      <td>31.916667</td>\n",
       "      <td>40.361111</td>\n",
       "      <td>16.416667</td>\n",
       "    </tr>\n",
       "    <tr>\n",
       "      <th>(60, 70]</th>\n",
       "      <td>16</td>\n",
       "      <td>28.062500</td>\n",
       "      <td>36.312500</td>\n",
       "      <td>22.750000</td>\n",
       "    </tr>\n",
       "    <tr>\n",
       "      <th>(50, 60]</th>\n",
       "      <td>4</td>\n",
       "      <td>33.500000</td>\n",
       "      <td>40.500000</td>\n",
       "      <td>7.000000</td>\n",
       "    </tr>\n",
       "    <tr>\n",
       "      <th>(40, 50]</th>\n",
       "      <td>3</td>\n",
       "      <td>22.000000</td>\n",
       "      <td>22.666667</td>\n",
       "      <td>28.666667</td>\n",
       "    </tr>\n",
       "    <tr>\n",
       "      <th>(30, 40]</th>\n",
       "      <td>2</td>\n",
       "      <td>26.500000</td>\n",
       "      <td>32.500000</td>\n",
       "      <td>11.500000</td>\n",
       "    </tr>\n",
       "    <tr>\n",
       "      <th>(0, 30]</th>\n",
       "      <td>0</td>\n",
       "      <td>NaN</td>\n",
       "      <td>NaN</td>\n",
       "      <td>NaN</td>\n",
       "    </tr>\n",
       "  </tbody>\n",
       "</table>\n",
       "</div>"
      ],
      "text/plain": [
       "           Count  Mean_Min_Length  Mean_Max_Length  Mean_Number_of_Episodes\n",
       "(90, 100]      2        21.500000        23.500000                 9.000000\n",
       "(80, 90]      43        38.837209        50.976744                18.697674\n",
       "(70, 80]      36        31.916667        40.361111                16.416667\n",
       "(60, 70]      16        28.062500        36.312500                22.750000\n",
       "(50, 60]       4        33.500000        40.500000                 7.000000\n",
       "(40, 50]       3        22.000000        22.666667                28.666667\n",
       "(30, 40]       2        26.500000        32.500000                11.500000\n",
       "(0, 30]        0              NaN              NaN                      NaN"
      ]
     },
     "execution_count": 31,
     "metadata": {},
     "output_type": "execute_result"
    }
   ],
   "source": [
    "ratings_cut_df = nflx_originals.copy()\n",
    "ratings_cut_df[\"rating_cut\"] = pd.cut(ratings_cut_df.IMDB_Rating,[0,30,40,50,60,70,80,90,100])\n",
    "ratings_cut_df[\"rating_cut\"]\n",
    "column_analysis_df(ratings_cut_df,\"rating_cut\").drop(\"Mean_Rating\",axis = 1).sort_index(ascending = False)"
   ]
  },
  {
   "cell_type": "markdown",
   "metadata": {},
   "source": [
    "# Genre Analysis\n",
    "\n",
    "What Genre's are netflix focusing on? How well do those categories score on IMDB?"
   ]
  },
  {
   "cell_type": "code",
   "execution_count": 32,
   "metadata": {},
   "outputs": [
    {
     "data": {
      "text/html": [
       "<div>\n",
       "<style scoped>\n",
       "    .dataframe tbody tr th:only-of-type {\n",
       "        vertical-align: middle;\n",
       "    }\n",
       "\n",
       "    .dataframe tbody tr th {\n",
       "        vertical-align: top;\n",
       "    }\n",
       "\n",
       "    .dataframe thead th {\n",
       "        text-align: right;\n",
       "    }\n",
       "</style>\n",
       "<table border=\"1\" class=\"dataframe\">\n",
       "  <thead>\n",
       "    <tr style=\"text-align: right;\">\n",
       "      <th></th>\n",
       "      <th>Count</th>\n",
       "      <th>Mean_Rating</th>\n",
       "      <th>Mean_Min_Length</th>\n",
       "      <th>Mean_Max_Length</th>\n",
       "      <th>Mean_Number_of_Episodes</th>\n",
       "    </tr>\n",
       "  </thead>\n",
       "  <tbody>\n",
       "    <tr>\n",
       "      <th>Drama</th>\n",
       "      <td>18</td>\n",
       "      <td>83.333333</td>\n",
       "      <td>49.777778</td>\n",
       "      <td>66.500000</td>\n",
       "      <td>20.111111</td>\n",
       "    </tr>\n",
       "    <tr>\n",
       "      <th>Animation</th>\n",
       "      <td>1</td>\n",
       "      <td>80.000000</td>\n",
       "      <td>22.000000</td>\n",
       "      <td>22.000000</td>\n",
       "      <td>13.000000</td>\n",
       "    </tr>\n",
       "    <tr>\n",
       "      <th>Marvel</th>\n",
       "      <td>4</td>\n",
       "      <td>79.500000</td>\n",
       "      <td>47.500000</td>\n",
       "      <td>60.000000</td>\n",
       "      <td>16.250000</td>\n",
       "    </tr>\n",
       "    <tr>\n",
       "      <th>Foreign Language</th>\n",
       "      <td>8</td>\n",
       "      <td>78.625000</td>\n",
       "      <td>34.125000</td>\n",
       "      <td>45.125000</td>\n",
       "      <td>11.750000</td>\n",
       "    </tr>\n",
       "    <tr>\n",
       "      <th>Docu-Series</th>\n",
       "      <td>14</td>\n",
       "      <td>78.153846</td>\n",
       "      <td>49.071429</td>\n",
       "      <td>59.714286</td>\n",
       "      <td>7.142857</td>\n",
       "    </tr>\n",
       "    <tr>\n",
       "      <th>Comedy</th>\n",
       "      <td>25</td>\n",
       "      <td>75.240000</td>\n",
       "      <td>27.880000</td>\n",
       "      <td>35.960000</td>\n",
       "      <td>16.640000</td>\n",
       "    </tr>\n",
       "    <tr>\n",
       "      <th>Family Animation</th>\n",
       "      <td>32</td>\n",
       "      <td>72.612903</td>\n",
       "      <td>21.843750</td>\n",
       "      <td>27.218750</td>\n",
       "      <td>22.687500</td>\n",
       "    </tr>\n",
       "    <tr>\n",
       "      <th>Family Live Action</th>\n",
       "      <td>3</td>\n",
       "      <td>65.000000</td>\n",
       "      <td>23.333333</td>\n",
       "      <td>28.666667</td>\n",
       "      <td>16.333333</td>\n",
       "    </tr>\n",
       "    <tr>\n",
       "      <th>Reality</th>\n",
       "      <td>2</td>\n",
       "      <td>56.500000</td>\n",
       "      <td>35.000000</td>\n",
       "      <td>46.500000</td>\n",
       "      <td>10.000000</td>\n",
       "    </tr>\n",
       "    <tr>\n",
       "      <th>Talk Show</th>\n",
       "      <td>2</td>\n",
       "      <td>50.000000</td>\n",
       "      <td>27.000000</td>\n",
       "      <td>36.000000</td>\n",
       "      <td>51.500000</td>\n",
       "    </tr>\n",
       "  </tbody>\n",
       "</table>\n",
       "</div>"
      ],
      "text/plain": [
       "                    Count  Mean_Rating  Mean_Min_Length  Mean_Max_Length  \\\n",
       "Drama                  18    83.333333        49.777778        66.500000   \n",
       "Animation               1    80.000000        22.000000        22.000000   \n",
       "Marvel                  4    79.500000        47.500000        60.000000   \n",
       "Foreign Language        8    78.625000        34.125000        45.125000   \n",
       "Docu-Series            14    78.153846        49.071429        59.714286   \n",
       "Comedy                 25    75.240000        27.880000        35.960000   \n",
       "Family Animation       32    72.612903        21.843750        27.218750   \n",
       "Family Live Action      3    65.000000        23.333333        28.666667   \n",
       "Reality                 2    56.500000        35.000000        46.500000   \n",
       "Talk Show               2    50.000000        27.000000        36.000000   \n",
       "\n",
       "                    Mean_Number_of_Episodes  \n",
       "Drama                             20.111111  \n",
       "Animation                         13.000000  \n",
       "Marvel                            16.250000  \n",
       "Foreign Language                  11.750000  \n",
       "Docu-Series                        7.142857  \n",
       "Comedy                            16.640000  \n",
       "Family Animation                  22.687500  \n",
       "Family Live Action                16.333333  \n",
       "Reality                           10.000000  \n",
       "Talk Show                         51.500000  "
      ]
     },
     "execution_count": 32,
     "metadata": {},
     "output_type": "execute_result"
    }
   ],
   "source": [
    "column_analysis_df(nflx_originals,\"Major_Genre\").sort_values(\"Mean_Rating\",ascending = False)"
   ]
  },
  {
   "cell_type": "markdown",
   "metadata": {},
   "source": [
    "From this table it is clear that Netflix is focusing on Family Animation, Comedy and Drama. They have produced the most of these but also have a lot of episodes of each with solid ratings."
   ]
  },
  {
   "cell_type": "markdown",
   "metadata": {},
   "source": [
    "# Status Analysis\n",
    "\n",
    "What types of shows are Ended, Renewed or Pending? "
   ]
  },
  {
   "cell_type": "code",
   "execution_count": 33,
   "metadata": {},
   "outputs": [
    {
     "data": {
      "text/html": [
       "<div>\n",
       "<style scoped>\n",
       "    .dataframe tbody tr th:only-of-type {\n",
       "        vertical-align: middle;\n",
       "    }\n",
       "\n",
       "    .dataframe tbody tr th {\n",
       "        vertical-align: top;\n",
       "    }\n",
       "\n",
       "    .dataframe thead th {\n",
       "        text-align: right;\n",
       "    }\n",
       "</style>\n",
       "<table border=\"1\" class=\"dataframe\">\n",
       "  <thead>\n",
       "    <tr style=\"text-align: right;\">\n",
       "      <th></th>\n",
       "      <th>Count</th>\n",
       "      <th>Mean_Rating</th>\n",
       "      <th>Mean_Min_Length</th>\n",
       "      <th>Mean_Max_Length</th>\n",
       "      <th>Mean_Number_of_Episodes</th>\n",
       "    </tr>\n",
       "  </thead>\n",
       "  <tbody>\n",
       "    <tr>\n",
       "      <th>Ongoing</th>\n",
       "      <td>4</td>\n",
       "      <td>79.500000</td>\n",
       "      <td>30.000000</td>\n",
       "      <td>38.250000</td>\n",
       "      <td>33.000000</td>\n",
       "    </tr>\n",
       "    <tr>\n",
       "      <th>Renewed</th>\n",
       "      <td>37</td>\n",
       "      <td>78.833333</td>\n",
       "      <td>34.972973</td>\n",
       "      <td>49.702703</td>\n",
       "      <td>17.351351</td>\n",
       "    </tr>\n",
       "    <tr>\n",
       "      <th>Pending</th>\n",
       "      <td>44</td>\n",
       "      <td>74.642857</td>\n",
       "      <td>31.295455</td>\n",
       "      <td>37.977273</td>\n",
       "      <td>17.181818</td>\n",
       "    </tr>\n",
       "    <tr>\n",
       "      <th>Ended</th>\n",
       "      <td>21</td>\n",
       "      <td>71.428571</td>\n",
       "      <td>34.761905</td>\n",
       "      <td>40.571429</td>\n",
       "      <td>18.952381</td>\n",
       "    </tr>\n",
       "  </tbody>\n",
       "</table>\n",
       "</div>"
      ],
      "text/plain": [
       "         Count  Mean_Rating  Mean_Min_Length  Mean_Max_Length  \\\n",
       "Ongoing      4    79.500000        30.000000        38.250000   \n",
       "Renewed     37    78.833333        34.972973        49.702703   \n",
       "Pending     44    74.642857        31.295455        37.977273   \n",
       "Ended       21    71.428571        34.761905        40.571429   \n",
       "\n",
       "         Mean_Number_of_Episodes  \n",
       "Ongoing                33.000000  \n",
       "Renewed                17.351351  \n",
       "Pending                17.181818  \n",
       "Ended                  18.952381  "
      ]
     },
     "execution_count": 33,
     "metadata": {},
     "output_type": "execute_result"
    }
   ],
   "source": [
    "column_analysis_df(nflx_originals,\"Status\").sort_values(\"Mean_Rating\", ascending = False)"
   ]
  },
  {
   "cell_type": "markdown",
   "metadata": {},
   "source": [
    "# Status Predictions\n",
    "\n",
    "We dont have that many observations here but it would be interesting to try to predict if a show that is in the Pending status will be Renewed or Ended. This analysis is pretty simplistic because it will not take into account the reason a show was cancelled (sometimes good shows have a natural or planned number of episodes or seasons) and given the relatively short time horizon there will be plenty of shows that will be cancelled in the future for quality or user engagement reasons that still havent been ended yet due to the fact that they recently premiered. \n",
    "\n",
    "\n",
    "Given all of these drawbacks I would not expect this model to perform that well in making predictions but I still think that it can provide some insights into important features to predict if a show will be renewed or ended!\n",
    "\n",
    "### Feature Creation"
   ]
  },
  {
   "cell_type": "code",
   "execution_count": 34,
   "metadata": {},
   "outputs": [
    {
     "name": "stdout",
     "output_type": "stream",
     "text": [
      "Family Animation      31\n",
      "Comedy                24\n",
      "Drama                 17\n",
      "Docu-Series           14\n",
      "Foreign Language       8\n",
      "Marvel                 4\n",
      "Family Live Action     3\n",
      "Reality                2\n",
      "Animation              1\n",
      "Talk Show              1\n",
      "Name: Major_Genre, dtype: int64\n"
     ]
    }
   ],
   "source": [
    "other_shows = nflx_originals[nflx_originals[\"Status\"] != \"Ongoing\"]\n",
    "print(other_shows[\"Major_Genre\"].value_counts())"
   ]
  },
  {
   "cell_type": "markdown",
   "metadata": {},
   "source": [
    "The Major Genre's are mostly focused around the top 4 values. Since we dont have that many observations the smaller Genres will be grouped into an \"Other\" category or into one of the related Genres"
   ]
  },
  {
   "cell_type": "code",
   "execution_count": 35,
   "metadata": {},
   "outputs": [
    {
     "data": {
      "text/plain": [
       "Animation                           33\n",
       "Comedy                               8\n",
       "Documentary                          5\n",
       "Sitcom                               5\n",
       "Comedy-drama                         4\n",
       "Crime drama                          4\n",
       "Historical drama                     3\n",
       "Culinary art                         3\n",
       "Political drama                      3\n",
       "Drama                                3\n",
       "Sketch comedy                        2\n",
       "Talk Show                            2\n",
       "Sport                                2\n",
       "Science fiction                      2\n",
       "Period drama                         2\n",
       "Mockumentary                         2\n",
       "Romantic comedy                      1\n",
       "Comedy/educational                   1\n",
       "Celebrity                            1\n",
       "Science investigation                1\n",
       "Neo-noir/psychological thriller      1\n",
       "Docu-Series                          1\n",
       "Romantic comedy anthology series     1\n",
       "Educational                          1\n",
       "Adult Animation                      1\n",
       "Black-comedy mystery                 1\n",
       "Thriller                             1\n",
       "Mystery                              1\n",
       "Competition                          1\n",
       "Crime drama/legal drama              1\n",
       "Neo-blaxploitation                   1\n",
       "Comedy-horror                        1\n",
       "Horror/thriller                      1\n",
       "Satirical comedy                     1\n",
       "Family drama                         1\n",
       "Musical drama                        1\n",
       "Satire/Drama                         1\n",
       "Science fictionanthology series      1\n",
       "Comic science fiction                1\n",
       "Martial arts/mystery fiction         1\n",
       "Teen drama/mystery                   1\n",
       "Science fiction/horror               1\n",
       "Name: Subgenre, dtype: int64"
      ]
     },
     "execution_count": 35,
     "metadata": {},
     "output_type": "execute_result"
    }
   ],
   "source": [
    "nflx_originals[\"Subgenre\"].value_counts()"
   ]
  },
  {
   "cell_type": "markdown",
   "metadata": {},
   "source": [
    "The Subgenre's are mostly focused around Animation. Since we dont have that many observations we will just use Subgenre_Animation as a binary value column"
   ]
  },
  {
   "cell_type": "code",
   "execution_count": 36,
   "metadata": {},
   "outputs": [],
   "source": [
    "from sklearn.preprocessing import OneHotEncoder\n",
    "def clean_and_select_features(df):\n",
    "    \"\"\" \n",
    "    Clean Dataframe, One Hot Encode Categorical Data and return an ML ready DataFrame. \n",
    "  \n",
    "    Parameters: \n",
    "    df (pd.DataFrame): Raw Netflix Originals Pandas Dataframe \n",
    "  \n",
    "    Returns: \n",
    "    df_features: Feature DataFrame that is ready for input to a sklearn machine learning model \n",
    "  \n",
    "    \"\"\"\n",
    "    df_features = df.copy().reset_index()\n",
    "    \n",
    "    # Fill NA Values with 0 (replace the NA's we added earlier with their original value)\n",
    "    df_features = df_features.fillna(0)\n",
    "    \n",
    "    # replace low count genre's with \"Other\" for One Hot Encoding\n",
    "    df_features[\"Major_Genre\"] = df_features[\"Major_Genre\"].replace(\"Animation\",\"Other\")\n",
    "    df_features[\"Major_Genre\"] = df_features[\"Major_Genre\"].replace(\"Talk Show\",\"Other\")\n",
    "    df_features[\"Major_Genre\"] = df_features[\"Major_Genre\"].replace(\"Reality\",\"Other\")\n",
    "    df_features[\"Major_Genre\"] = df_features[\"Major_Genre\"].replace(\"Marvel\",\"Other\")\n",
    "    df_features[\"Major_Genre\"] = df_features[\"Major_Genre\"].replace(\"Family Live Action\",\"Other\")\n",
    "    \n",
    "    # One Hot encode Major_Genre column\n",
    "    encode_columns = [\"Family Animation\",\"Comedy\", \"Drama\",\"Docu-Series\",\"Foreign Language\",\"Other\"]\n",
    "    header_columns = [\"Major_Genre_\" + s.replace(\" \",\"_\") for s in encode_columns]\n",
    "    \n",
    "    Genre_OHC = OneHotEncoder(handle_unknown = \"ignore\")\n",
    "    Genre_OHC.fit(np.array(encode_columns).reshape(-1, 1))\n",
    "    a = Genre_OHC.transform(df_features.Major_Genre.values.reshape(-1, 1)).toarray()\n",
    "    \n",
    "    genre_ohc_df = pd.DataFrame(a)\n",
    "    genre_ohc_df = genre_ohc_df.rename(columns = {0 : header_columns[0],\n",
    "                                                  1 : header_columns[1],\n",
    "                                                  2 : header_columns[2],\n",
    "                                                  3 : header_columns[3],\n",
    "                                                  4 : header_columns[4],\n",
    "                                                  5 : header_columns[5]})\n",
    "    # Combine the One Hot Encoded Columns to the main df\n",
    "    df_features = pd.concat([df_features,genre_ohc_df],axis = 1)\n",
    "    \n",
    "    # Create Manual One Hot Encoded values for Subgenre column\n",
    "    df_features[\"Subgenre_Animation\"] = df_features[\"Subgenre\"] == \"Animation\"\n",
    "    \n",
    "    # Drop one hot encoded Columns\n",
    "    df_features = df_features.drop(labels = [\"Major_Genre\",\"Subgenre\"],axis = 1)\n",
    "    \n",
    "    # Drop Character Columns \n",
    "    df_features = df_features.drop(labels = [\"Title\",\n",
    "                                             \"index\",\n",
    "                                             \"Premiere Date\",\n",
    "                                             \"Seasons\",\n",
    "                                             \"Month_Year\"],axis = 1)\n",
    "    return df_features"
   ]
  },
  {
   "cell_type": "code",
   "execution_count": 37,
   "metadata": {},
   "outputs": [
    {
     "data": {
      "text/html": [
       "<div>\n",
       "<style scoped>\n",
       "    .dataframe tbody tr th:only-of-type {\n",
       "        vertical-align: middle;\n",
       "    }\n",
       "\n",
       "    .dataframe tbody tr th {\n",
       "        vertical-align: top;\n",
       "    }\n",
       "\n",
       "    .dataframe thead th {\n",
       "        text-align: right;\n",
       "    }\n",
       "</style>\n",
       "<table border=\"1\" class=\"dataframe\">\n",
       "  <thead>\n",
       "    <tr style=\"text-align: right;\">\n",
       "      <th></th>\n",
       "      <th>Premiere_Year</th>\n",
       "      <th>Status</th>\n",
       "      <th>Min_Length</th>\n",
       "      <th>Max_Length</th>\n",
       "      <th>Seasons.1</th>\n",
       "      <th>Episodes</th>\n",
       "      <th>IMDB_Rating</th>\n",
       "      <th>Major_Genre_Family_Animation</th>\n",
       "      <th>Major_Genre_Comedy</th>\n",
       "      <th>Major_Genre_Drama</th>\n",
       "      <th>Major_Genre_Docu-Series</th>\n",
       "      <th>Major_Genre_Foreign_Language</th>\n",
       "      <th>Major_Genre_Other</th>\n",
       "      <th>Subgenre_Animation</th>\n",
       "    </tr>\n",
       "  </thead>\n",
       "  <tbody>\n",
       "    <tr>\n",
       "      <th>0</th>\n",
       "      <td>2013</td>\n",
       "      <td>Renewed</td>\n",
       "      <td>28</td>\n",
       "      <td>37</td>\n",
       "      <td>1</td>\n",
       "      <td>15</td>\n",
       "      <td>89.0</td>\n",
       "      <td>1.0</td>\n",
       "      <td>0.0</td>\n",
       "      <td>0.0</td>\n",
       "      <td>0.0</td>\n",
       "      <td>0.0</td>\n",
       "      <td>0.0</td>\n",
       "      <td>False</td>\n",
       "    </tr>\n",
       "    <tr>\n",
       "      <th>1</th>\n",
       "      <td>2014</td>\n",
       "      <td>Renewed</td>\n",
       "      <td>25</td>\n",
       "      <td>26</td>\n",
       "      <td>3</td>\n",
       "      <td>36</td>\n",
       "      <td>84.0</td>\n",
       "      <td>1.0</td>\n",
       "      <td>0.0</td>\n",
       "      <td>0.0</td>\n",
       "      <td>0.0</td>\n",
       "      <td>0.0</td>\n",
       "      <td>0.0</td>\n",
       "      <td>False</td>\n",
       "    </tr>\n",
       "    <tr>\n",
       "      <th>2</th>\n",
       "      <td>2015</td>\n",
       "      <td>Renewed</td>\n",
       "      <td>25</td>\n",
       "      <td>35</td>\n",
       "      <td>3</td>\n",
       "      <td>39</td>\n",
       "      <td>82.0</td>\n",
       "      <td>1.0</td>\n",
       "      <td>0.0</td>\n",
       "      <td>0.0</td>\n",
       "      <td>0.0</td>\n",
       "      <td>0.0</td>\n",
       "      <td>0.0</td>\n",
       "      <td>False</td>\n",
       "    </tr>\n",
       "    <tr>\n",
       "      <th>3</th>\n",
       "      <td>2016</td>\n",
       "      <td>Renewed</td>\n",
       "      <td>27</td>\n",
       "      <td>40</td>\n",
       "      <td>2</td>\n",
       "      <td>22</td>\n",
       "      <td>78.0</td>\n",
       "      <td>1.0</td>\n",
       "      <td>0.0</td>\n",
       "      <td>0.0</td>\n",
       "      <td>0.0</td>\n",
       "      <td>0.0</td>\n",
       "      <td>0.0</td>\n",
       "      <td>False</td>\n",
       "    </tr>\n",
       "    <tr>\n",
       "      <th>4</th>\n",
       "      <td>2016</td>\n",
       "      <td>Renewed</td>\n",
       "      <td>25</td>\n",
       "      <td>36</td>\n",
       "      <td>2</td>\n",
       "      <td>26</td>\n",
       "      <td>71.0</td>\n",
       "      <td>1.0</td>\n",
       "      <td>0.0</td>\n",
       "      <td>0.0</td>\n",
       "      <td>0.0</td>\n",
       "      <td>0.0</td>\n",
       "      <td>0.0</td>\n",
       "      <td>False</td>\n",
       "    </tr>\n",
       "  </tbody>\n",
       "</table>\n",
       "</div>"
      ],
      "text/plain": [
       "   Premiere_Year   Status  Min_Length  Max_Length  Seasons.1  Episodes  \\\n",
       "0           2013  Renewed          28          37          1        15   \n",
       "1           2014  Renewed          25          26          3        36   \n",
       "2           2015  Renewed          25          35          3        39   \n",
       "3           2016  Renewed          27          40          2        22   \n",
       "4           2016  Renewed          25          36          2        26   \n",
       "\n",
       "   IMDB_Rating  Major_Genre_Family_Animation  Major_Genre_Comedy  \\\n",
       "0         89.0                           1.0                 0.0   \n",
       "1         84.0                           1.0                 0.0   \n",
       "2         82.0                           1.0                 0.0   \n",
       "3         78.0                           1.0                 0.0   \n",
       "4         71.0                           1.0                 0.0   \n",
       "\n",
       "   Major_Genre_Drama  Major_Genre_Docu-Series  Major_Genre_Foreign_Language  \\\n",
       "0                0.0                      0.0                           0.0   \n",
       "1                0.0                      0.0                           0.0   \n",
       "2                0.0                      0.0                           0.0   \n",
       "3                0.0                      0.0                           0.0   \n",
       "4                0.0                      0.0                           0.0   \n",
       "\n",
       "   Major_Genre_Other  Subgenre_Animation  \n",
       "0                0.0               False  \n",
       "1                0.0               False  \n",
       "2                0.0               False  \n",
       "3                0.0               False  \n",
       "4                0.0               False  "
      ]
     },
     "execution_count": 37,
     "metadata": {},
     "output_type": "execute_result"
    }
   ],
   "source": [
    "# Gather Known outcomes for shows (either renewed or ended)\n",
    "renewed_shows = nflx_originals[nflx_originals[\"Status\"]== \"Renewed\"]\n",
    "ended_shows = nflx_originals[nflx_originals[\"Status\"]== \"Ended\"]\n",
    "known_outcomes = pd.concat([renewed_shows,ended_shows],axis = 0)\n",
    "nflx_originals_features = clean_and_select_features(known_outcomes)\n",
    "nflx_originals_features.head()"
   ]
  },
  {
   "cell_type": "code",
   "execution_count": 38,
   "metadata": {},
   "outputs": [
    {
     "data": {
      "text/plain": [
       "0    True\n",
       "1    True\n",
       "2    True\n",
       "3    True\n",
       "4    True\n",
       "Name: Status, dtype: bool"
      ]
     },
     "execution_count": 38,
     "metadata": {},
     "output_type": "execute_result"
    }
   ],
   "source": [
    "# Make target column -> 1 if \"Renewed\" and -> 0 if \"Ended\"\n",
    "target = nflx_originals_features.Status == \"Renewed\"\n",
    "target.head()"
   ]
  },
  {
   "cell_type": "code",
   "execution_count": 39,
   "metadata": {},
   "outputs": [],
   "source": [
    "X = nflx_originals_features.drop(\"Status\",axis = 1)"
   ]
  },
  {
   "cell_type": "code",
   "execution_count": 40,
   "metadata": {},
   "outputs": [
    {
     "data": {
      "text/html": [
       "<div>\n",
       "<style scoped>\n",
       "    .dataframe tbody tr th:only-of-type {\n",
       "        vertical-align: middle;\n",
       "    }\n",
       "\n",
       "    .dataframe tbody tr th {\n",
       "        vertical-align: top;\n",
       "    }\n",
       "\n",
       "    .dataframe thead th {\n",
       "        text-align: right;\n",
       "    }\n",
       "</style>\n",
       "<table border=\"1\" class=\"dataframe\">\n",
       "  <thead>\n",
       "    <tr style=\"text-align: right;\">\n",
       "      <th></th>\n",
       "      <th>Premiere_Year</th>\n",
       "      <th>Min_Length</th>\n",
       "      <th>Max_Length</th>\n",
       "      <th>Seasons.1</th>\n",
       "      <th>Episodes</th>\n",
       "      <th>IMDB_Rating</th>\n",
       "      <th>Major_Genre_Family_Animation</th>\n",
       "      <th>Major_Genre_Comedy</th>\n",
       "      <th>Major_Genre_Drama</th>\n",
       "      <th>Major_Genre_Docu-Series</th>\n",
       "      <th>Major_Genre_Foreign_Language</th>\n",
       "      <th>Major_Genre_Other</th>\n",
       "      <th>Subgenre_Animation</th>\n",
       "    </tr>\n",
       "  </thead>\n",
       "  <tbody>\n",
       "    <tr>\n",
       "      <th>0</th>\n",
       "      <td>2013</td>\n",
       "      <td>28</td>\n",
       "      <td>37</td>\n",
       "      <td>1</td>\n",
       "      <td>15</td>\n",
       "      <td>89.0</td>\n",
       "      <td>1.0</td>\n",
       "      <td>0.0</td>\n",
       "      <td>0.0</td>\n",
       "      <td>0.0</td>\n",
       "      <td>0.0</td>\n",
       "      <td>0.0</td>\n",
       "      <td>False</td>\n",
       "    </tr>\n",
       "    <tr>\n",
       "      <th>1</th>\n",
       "      <td>2014</td>\n",
       "      <td>25</td>\n",
       "      <td>26</td>\n",
       "      <td>3</td>\n",
       "      <td>36</td>\n",
       "      <td>84.0</td>\n",
       "      <td>1.0</td>\n",
       "      <td>0.0</td>\n",
       "      <td>0.0</td>\n",
       "      <td>0.0</td>\n",
       "      <td>0.0</td>\n",
       "      <td>0.0</td>\n",
       "      <td>False</td>\n",
       "    </tr>\n",
       "    <tr>\n",
       "      <th>2</th>\n",
       "      <td>2015</td>\n",
       "      <td>25</td>\n",
       "      <td>35</td>\n",
       "      <td>3</td>\n",
       "      <td>39</td>\n",
       "      <td>82.0</td>\n",
       "      <td>1.0</td>\n",
       "      <td>0.0</td>\n",
       "      <td>0.0</td>\n",
       "      <td>0.0</td>\n",
       "      <td>0.0</td>\n",
       "      <td>0.0</td>\n",
       "      <td>False</td>\n",
       "    </tr>\n",
       "    <tr>\n",
       "      <th>3</th>\n",
       "      <td>2016</td>\n",
       "      <td>27</td>\n",
       "      <td>40</td>\n",
       "      <td>2</td>\n",
       "      <td>22</td>\n",
       "      <td>78.0</td>\n",
       "      <td>1.0</td>\n",
       "      <td>0.0</td>\n",
       "      <td>0.0</td>\n",
       "      <td>0.0</td>\n",
       "      <td>0.0</td>\n",
       "      <td>0.0</td>\n",
       "      <td>False</td>\n",
       "    </tr>\n",
       "    <tr>\n",
       "      <th>4</th>\n",
       "      <td>2016</td>\n",
       "      <td>25</td>\n",
       "      <td>36</td>\n",
       "      <td>2</td>\n",
       "      <td>26</td>\n",
       "      <td>71.0</td>\n",
       "      <td>1.0</td>\n",
       "      <td>0.0</td>\n",
       "      <td>0.0</td>\n",
       "      <td>0.0</td>\n",
       "      <td>0.0</td>\n",
       "      <td>0.0</td>\n",
       "      <td>False</td>\n",
       "    </tr>\n",
       "  </tbody>\n",
       "</table>\n",
       "</div>"
      ],
      "text/plain": [
       "   Premiere_Year  Min_Length  Max_Length  Seasons.1  Episodes  IMDB_Rating  \\\n",
       "0           2013          28          37          1        15         89.0   \n",
       "1           2014          25          26          3        36         84.0   \n",
       "2           2015          25          35          3        39         82.0   \n",
       "3           2016          27          40          2        22         78.0   \n",
       "4           2016          25          36          2        26         71.0   \n",
       "\n",
       "   Major_Genre_Family_Animation  Major_Genre_Comedy  Major_Genre_Drama  \\\n",
       "0                           1.0                 0.0                0.0   \n",
       "1                           1.0                 0.0                0.0   \n",
       "2                           1.0                 0.0                0.0   \n",
       "3                           1.0                 0.0                0.0   \n",
       "4                           1.0                 0.0                0.0   \n",
       "\n",
       "   Major_Genre_Docu-Series  Major_Genre_Foreign_Language  Major_Genre_Other  \\\n",
       "0                      0.0                           0.0                0.0   \n",
       "1                      0.0                           0.0                0.0   \n",
       "2                      0.0                           0.0                0.0   \n",
       "3                      0.0                           0.0                0.0   \n",
       "4                      0.0                           0.0                0.0   \n",
       "\n",
       "   Subgenre_Animation  \n",
       "0               False  \n",
       "1               False  \n",
       "2               False  \n",
       "3               False  \n",
       "4               False  "
      ]
     },
     "execution_count": 40,
     "metadata": {},
     "output_type": "execute_result"
    }
   ],
   "source": [
    "X.head()"
   ]
  },
  {
   "cell_type": "markdown",
   "metadata": {},
   "source": [
    "Split Data into training and test sets for analysis making sure to stratify on the target variable to keep the target percentages consistent"
   ]
  },
  {
   "cell_type": "code",
   "execution_count": 41,
   "metadata": {},
   "outputs": [],
   "source": [
    "from sklearn.model_selection import train_test_split\n",
    "X_train, X_test, y_train, y_test = train_test_split(X, target, test_size=0.2, random_state=42, stratify = target)"
   ]
  },
  {
   "cell_type": "code",
   "execution_count": 42,
   "metadata": {},
   "outputs": [
    {
     "name": "stdout",
     "output_type": "stream",
     "text": [
      "Prediction on Training Data:\n",
      "              precision    recall  f1-score   support\n",
      "\n",
      "       False       0.75      0.71      0.73        17\n",
      "        True       0.83      0.86      0.85        29\n",
      "\n",
      "    accuracy                           0.80        46\n",
      "   macro avg       0.79      0.78      0.79        46\n",
      "weighted avg       0.80      0.80      0.80        46\n",
      "\n",
      "Prediction on Test Data:\n",
      "              precision    recall  f1-score   support\n",
      "\n",
      "       False       0.50      0.75      0.60         4\n",
      "        True       0.83      0.62      0.71         8\n",
      "\n",
      "    accuracy                           0.67        12\n",
      "   macro avg       0.67      0.69      0.66        12\n",
      "weighted avg       0.72      0.67      0.68        12\n",
      "\n"
     ]
    }
   ],
   "source": [
    "from sklearn.linear_model import LogisticRegression\n",
    "from sklearn.metrics import classification_report\n",
    "from sklearn.preprocessing import StandardScaler\n",
    "\n",
    "ss = StandardScaler()\n",
    "X_train_scaled = ss.fit_transform(X_train)\n",
    "X_test_scaled = ss.transform(X_test)\n",
    "\n",
    "lr_model = LogisticRegression(solver = 'liblinear',) # liblinear is a good solver for smaller datasets\n",
    "lr_model.fit(X_train_scaled,y_train)\n",
    "print(\"Prediction on Training Data:\")\n",
    "print(classification_report(y_train,lr_model.predict(X_train_scaled)))\n",
    "print(\"Prediction on Test Data:\")\n",
    "print(classification_report(y_test,lr_model.predict(X_test_scaled)))"
   ]
  },
  {
   "cell_type": "code",
   "execution_count": 43,
   "metadata": {},
   "outputs": [
    {
     "data": {
      "text/html": [
       "<div>\n",
       "<style scoped>\n",
       "    .dataframe tbody tr th:only-of-type {\n",
       "        vertical-align: middle;\n",
       "    }\n",
       "\n",
       "    .dataframe tbody tr th {\n",
       "        vertical-align: top;\n",
       "    }\n",
       "\n",
       "    .dataframe thead th {\n",
       "        text-align: right;\n",
       "    }\n",
       "</style>\n",
       "<table border=\"1\" class=\"dataframe\">\n",
       "  <thead>\n",
       "    <tr style=\"text-align: right;\">\n",
       "      <th></th>\n",
       "      <th>Values</th>\n",
       "    </tr>\n",
       "  </thead>\n",
       "  <tbody>\n",
       "    <tr>\n",
       "      <th>Premiere_Year</th>\n",
       "      <td>0.991086</td>\n",
       "    </tr>\n",
       "    <tr>\n",
       "      <th>Subgenre_Animation</th>\n",
       "      <td>-0.934492</td>\n",
       "    </tr>\n",
       "    <tr>\n",
       "      <th>Episodes</th>\n",
       "      <td>0.810718</td>\n",
       "    </tr>\n",
       "    <tr>\n",
       "      <th>Min_Length</th>\n",
       "      <td>-0.770228</td>\n",
       "    </tr>\n",
       "    <tr>\n",
       "      <th>Max_Length</th>\n",
       "      <td>0.518744</td>\n",
       "    </tr>\n",
       "    <tr>\n",
       "      <th>Major_Genre_Other</th>\n",
       "      <td>0.502385</td>\n",
       "    </tr>\n",
       "    <tr>\n",
       "      <th>IMDB_Rating</th>\n",
       "      <td>0.361484</td>\n",
       "    </tr>\n",
       "    <tr>\n",
       "      <th>Seasons.1</th>\n",
       "      <td>-0.313406</td>\n",
       "    </tr>\n",
       "    <tr>\n",
       "      <th>Major_Genre_Comedy</th>\n",
       "      <td>-0.288363</td>\n",
       "    </tr>\n",
       "    <tr>\n",
       "      <th>Major_Genre_Drama</th>\n",
       "      <td>-0.163393</td>\n",
       "    </tr>\n",
       "    <tr>\n",
       "      <th>Major_Genre_Foreign_Language</th>\n",
       "      <td>-0.120912</td>\n",
       "    </tr>\n",
       "    <tr>\n",
       "      <th>Major_Genre_Family_Animation</th>\n",
       "      <td>0.023500</td>\n",
       "    </tr>\n",
       "    <tr>\n",
       "      <th>Major_Genre_Docu-Series</th>\n",
       "      <td>0.019426</td>\n",
       "    </tr>\n",
       "  </tbody>\n",
       "</table>\n",
       "</div>"
      ],
      "text/plain": [
       "                                Values\n",
       "Premiere_Year                 0.991086\n",
       "Subgenre_Animation           -0.934492\n",
       "Episodes                      0.810718\n",
       "Min_Length                   -0.770228\n",
       "Max_Length                    0.518744\n",
       "Major_Genre_Other             0.502385\n",
       "IMDB_Rating                   0.361484\n",
       "Seasons.1                    -0.313406\n",
       "Major_Genre_Comedy           -0.288363\n",
       "Major_Genre_Drama            -0.163393\n",
       "Major_Genre_Foreign_Language -0.120912\n",
       "Major_Genre_Family_Animation  0.023500\n",
       "Major_Genre_Docu-Series       0.019426"
      ]
     },
     "execution_count": 43,
     "metadata": {},
     "output_type": "execute_result"
    }
   ],
   "source": [
    "Feature_Weights = pd.DataFrame(lr_model.coef_[0]).set_index(X.columns).rename(columns = {0 : \"Values\"}).sort_values(\"Values\")\n",
    "Feature_Weights.iloc[(-np.abs(Feature_Weights['Values'].values)).argsort()]"
   ]
  },
  {
   "cell_type": "code",
   "execution_count": 44,
   "metadata": {},
   "outputs": [
    {
     "name": "stdout",
     "output_type": "stream",
     "text": [
      "Pending Shows that will be renewed:\n",
      "True    44\n",
      "dtype: int64\n"
     ]
    }
   ],
   "source": [
    "# Unkown outcomes that we would like to predict for \n",
    "pending_shows_features = nflx_originals[nflx_originals[\"Status\"]== \"Pending\"]\n",
    "pending_features_clean = clean_and_select_features(pending_shows_features).drop(\"Status\",axis = 1)\n",
    "print(\"Pending Shows that will be renewed:\")\n",
    "print(pd.Series(lr_model.predict(pending_features_clean)).value_counts())"
   ]
  },
  {
   "cell_type": "markdown",
   "metadata": {},
   "source": [
    "# Results\n",
    "\n",
    "## Monthly Analysis\n",
    "\n",
    "Netflix is stepping up their original content production and from 2013 to mid 2017 has gone from one show premier every other month\n",
    "\n",
    "## Yearly Analysis\n",
    "\n",
    "The average show rating per year premiered is declining as netflix is making more shows. \n",
    "\n",
    "## High Rating Analysis\n",
    "\n",
    "There aren't any clear trends in show length or number of episodes for highly ranked shows.\n",
    "\n",
    "## Genre Analysis\n",
    "\n",
    "There are clear associations of genre's with IMDB ratings. This shows the areas that netflix is succeeding in with their original content. this seems to mostly be around Drama's, Marvel shows and Docu-Series. It would be interesting to see how this compares with other major content producers (Disney, Warner Media etc)\n",
    "\n",
    "## Status Analysis\n",
    "\n",
    "IMDB rating seems to have a correlation with the Status of the show and at a high level aligns with the various levels of Status from Ongoing to Ended. \n",
    "\n",
    "## Status Predictions\n",
    "\n",
    "Despite not having much data to work with and using a simple model the accuracy in predicting the Status of a show is pretty decent. It would be interesting to get more general data on other companies and content to see how it can compare."
   ]
  },
  {
   "cell_type": "markdown",
   "metadata": {},
   "source": [
    "# Next Steps / Areas for Improvement\n",
    "\n",
    "### Next Steps\n",
    "\n",
    "1. I would like to extend analysis like this to other content creation companies like Disney or Warner Media\n",
    "    - This would likely require building my own dataset through webscraping\n",
    "    - This could allow me to pull ratings from other sources than IMDB as well as bring in new features like cost of production or Director/Cast information\n",
    "1. I would like to see how my simple model performs on more recent data \n",
    "    - This would require me to extend the dataset through to 2019 which would probably have to be done through webscraping \n",
    "1. Since this analysis only covers series I would like to extend it to Movies as well since Netflix especially recently has been making more of those\n",
    "\n",
    "### Areas for Improvement\n",
    "\n",
    "1. This Analysis really lacks the ammount of Data that I would like to have (only 109 observations)\n",
    "1. This Data has pretty limited feature information about a show\n"
   ]
  },
  {
   "cell_type": "code",
   "execution_count": null,
   "metadata": {},
   "outputs": [],
   "source": []
  }
 ],
 "metadata": {
  "kernelspec": {
   "display_name": "Python 3",
   "language": "python",
   "name": "python3"
  },
  "language_info": {
   "codemirror_mode": {
    "name": "ipython",
    "version": 3
   },
   "file_extension": ".py",
   "mimetype": "text/x-python",
   "name": "python",
   "nbconvert_exporter": "python",
   "pygments_lexer": "ipython3",
   "version": "3.7.3"
  }
 },
 "nbformat": 4,
 "nbformat_minor": 2
}
